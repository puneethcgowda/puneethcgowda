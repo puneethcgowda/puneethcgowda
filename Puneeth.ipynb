{
 "cells": [
  {
   "cell_type": "code",
   "execution_count": 2,
   "id": "60f53d41-d71a-44f5-a249-6a43054f1c0f",
   "metadata": {},
   "outputs": [
    {
     "name": "stdout",
     "output_type": "stream",
     "text": [
      "The system has unique solution\n",
      "[[ 7.]\n",
      " [-4.]\n",
      " [-2.]]\n"
     ]
    }
   ],
   "source": [
    "from numpy import*\n",
    "A=matrix([[1,2,-1],[2,1,4],[3,3,4]])\n",
    "B=matrix([[1],[2],[1]])\n",
    "AB=concatenate((A,B),axis=1)\n",
    "rA=linalg.matrix_rank(A)\n",
    "rAB=linalg.matrix_rank(AB)\n",
    "n=A.shape[1]\n",
    "if(rA==rAB):\n",
    "    if(rA==n):\n",
    "        print(\"The system has unique solution\")\n",
    "        print(linalg.solve(A,B))\n",
    "    else:\n",
    "        print(\"The system has infinitely many solutions\")\n",
    "else:\n",
    "    print(\"The system of equations is inconsistent\")"
   ]
  },
  {
   "cell_type": "code",
   "execution_count": 3,
   "id": "b48160b1-9dc7-4c3e-bcf0-eb03a848edc7",
   "metadata": {},
   "outputs": [
    {
     "name": "stdout",
     "output_type": "stream",
     "text": [
      "The system of equations is inconsistent\n"
     ]
    }
   ],
   "source": [
    "from numpy import*\n",
    "A=matrix([[1,2,-1],[2,1,5],[3,3,4]])\n",
    "B=matrix([[1],[2],[1]])\n",
    "AB=concatenate((A,B),axis=1)\n",
    "rA=linalg.matrix_rank(A)\n",
    "rAB=linalg.matrix_rank(AB)\n",
    "n=A.shape[1]\n",
    "if(rA==rAB):\n",
    "    if(rA==n):\n",
    "        print(\"The system has unique solution\")\n",
    "        print(linalg.solve(A,B))\n",
    "    else:\n",
    "        print(\"The system has infinitely many solutions\")\n",
    "else:\n",
    "    print(\"The system of equations is inconsistent\")"
   ]
  },
  {
   "cell_type": "code",
   "execution_count": 1,
   "id": "55ec1201-6234-4ae5-a9a9-c6a5d2265af1",
   "metadata": {},
   "outputs": [
    {
     "name": "stdout",
     "output_type": "stream",
     "text": [
      "iteration no 1\n",
      "\t x1= 0.85 \t y= -1.0275 \t z= 1.0109\n",
      "iteration no 2\n",
      "\t x1= 1.0025 \t y= -0.9998 \t z= 0.9998\n",
      "iteration no 3\n",
      "\t x1= 1.0 \t y= -1.0 \t z= 1.0\n",
      "iteration no 4\n",
      "\t x1= 1.0 \t y= -1.0 \t z= 1.0\n",
      "iteration no 5\n",
      "\t x1= 1.0 \t y= -1.0 \t z= 1.0\n"
     ]
    }
   ],
   "source": [
    "from numpy import*\n",
    "from sympy import*\n",
    "x=0\n",
    "y=0\n",
    "z=0\n",
    "for i in range(5):\n",
    "    print('iteration no',i+1,)\n",
    "    x=(17-y+2*z)/20\n",
    "    y=(-18-3*x+z)/20\n",
    "    z=(25-2*x+3*y)/20\n",
    "\n",
    "    x1=x\n",
    "    x2=y\n",
    "    x3=z\n",
    "    print('\\t x1=',round(x1,4),'\\t y=',round(x2,4),'\\t z=',round(x3,4))\n"
   ]
  },
  {
   "cell_type": "code",
   "execution_count": 2,
   "id": "0d1c2193-40f1-4a19-a4ab-e8de4ee96619",
   "metadata": {},
   "outputs": [
    {
     "name": "stdout",
     "output_type": "stream",
     "text": [
      "Diagonally Dominant\n"
     ]
    }
   ],
   "source": [
    "from numpy import*\n",
    "(x1,y1,z1)=(25,1,1)\n",
    "(x2,y2,z2)=(2,10,-3)\n",
    "(x3,y3,z3)=(4,-2,-12)\n",
    "if abs(x1)>abs(y1)+abs(z1) and abs(y2)>abs(x2)+abs(z2) and abs(z3)>abs(x3)+abs(y3):\n",
    "    print('Diagonally Dominant')\n",
    "else:\n",
    "    print('Not Diagonally Dominant')"
   ]
  }
 ],
 "metadata": {
  "kernelspec": {
   "display_name": "Python [conda env:base] *",
   "language": "python",
   "name": "conda-base-py"
  },
  "language_info": {
   "codemirror_mode": {
    "name": "ipython",
    "version": 3
   },
   "file_extension": ".py",
   "mimetype": "text/x-python",
   "name": "python",
   "nbconvert_exporter": "python",
   "pygments_lexer": "ipython3",
   "version": "3.13.5"
  }
 },
 "nbformat": 4,
 "nbformat_minor": 5
}
