{
 "cells": [
  {
   "cell_type": "code",
   "execution_count": 2,
   "id": "60f53d41-d71a-44f5-a249-6a43054f1c0f",
   "metadata": {},
   "outputs": [
    {
     "name": "stdout",
     "output_type": "stream",
     "text": [
      "The system has unique solution\n",
      "[[ 7.]\n",
      " [-4.]\n",
      " [-2.]]\n"
     ]
    }
   ],
   "source": [
    "from numpy import*\n",
    "A=matrix([[1,2,-1],[2,1,4],[3,3,4]])\n",
    "B=matrix([[1],[2],[1]])\n",
    "AB=concatenate((A,B),axis=1)\n",
    "rA=linalg.matrix_rank(A)\n",
    "rAB=linalg.matrix_rank(AB)\n",
    "n=A.shape[1]\n",
    "if(rA==rAB):\n",
    "    if(rA==n):\n",
    "        print(\"The system has unique solution\")\n",
    "        print(linalg.solve(A,B))\n",
    "    else:\n",
    "        print(\"The system has infinitely many solutions\")\n",
    "else:\n",
    "    print(\"The system of equations is inconsistent\")"
   ]
  },
  {
   "cell_type": "code",
   "execution_count": 3,
   "id": "b48160b1-9dc7-4c3e-bcf0-eb03a848edc7",
   "metadata": {},
   "outputs": [
    {
     "name": "stdout",
     "output_type": "stream",
     "text": [
      "The system of equations is inconsistent\n"
     ]
    }
   ],
   "source": [
    "from numpy import*\n",
    "A=matrix([[1,2,-1],[2,1,5],[3,3,4]])\n",
    "B=matrix([[1],[2],[1]])\n",
    "AB=concatenate((A,B),axis=1)\n",
    "rA=linalg.matrix_rank(A)\n",
    "rAB=linalg.matrix_rank(AB)\n",
    "n=A.shape[1]\n",
    "if(rA==rAB):\n",
    "    if(rA==n):\n",
    "        print(\"The system has unique solution\")\n",
    "        print(linalg.solve(A,B))\n",
    "    else:\n",
    "        print(\"The system has infinitely many solutions\")\n",
    "else:\n",
    "    print(\"The system of equations is inconsistent\")"
   ]
  }
 ],
 "metadata": {
  "kernelspec": {
   "display_name": "Python [conda env:base] *",
   "language": "python",
   "name": "conda-base-py"
  },
  "language_info": {
   "codemirror_mode": {
    "name": "ipython",
    "version": 3
   },
   "file_extension": ".py",
   "mimetype": "text/x-python",
   "name": "python",
   "nbconvert_exporter": "python",
   "pygments_lexer": "ipython3",
   "version": "3.13.5"
  }
 },
 "nbformat": 4,
 "nbformat_minor": 5
}
